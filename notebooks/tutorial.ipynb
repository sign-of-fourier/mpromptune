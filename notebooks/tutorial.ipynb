{
 "cells": [
  {
   "cell_type": "code",
   "execution_count": 4,
   "id": "ed2b0a3f-35d1-4a06-b591-eda54c88fd47",
   "metadata": {},
   "outputs": [],
   "source": [
    "import os\n",
    "import dspy\n",
    "from mpromptune import qEI\n",
    "from dspy.datasets.gsm8k import GSM8K, gsm8k_metric\n",
    "from dspy.teleprompt import MIPROv2"
   ]
  },
  {
   "cell_type": "code",
   "execution_count": 5,
   "id": "3feee3cf-7b85-44f5-986f-8e16a42bda25",
   "metadata": {},
   "outputs": [],
   "source": [
    "os.environ['OPEN_AI_KEY']='YOUR TOKEN HERE'\n",
    "os.environ['X_RAPIDAPI_KEY']='YOUR TOKEN HERE'"
   ]
  },
  {
   "cell_type": "code",
   "execution_count": 6,
   "id": "fbce21f6-e510-4896-be70-27aca561eba8",
   "metadata": {},
   "outputs": [],
   "source": [
    "lm = dspy.LM('openai/gpt-4o-mini', api_key=os.environ['OPEN_AI_KEY'])\n",
    "dspy.configure(lm=lm)\n",
    "teleprompter = MIPROv2(\n",
    "    metric=gsm8k_metric,\n",
    "    auto=\"light\",\n",
    "    num_threads=2\n",
    ")"
   ]
  },
  {
   "cell_type": "code",
   "execution_count": 8,
   "id": "1f0d9676-1b3b-474e-a656-ed806890b002",
   "metadata": {
    "scrolled": true
   },
   "outputs": [
    {
     "name": "stderr",
     "output_type": "stream",
     "text": [
      "Reusing dataset gsm8k (/home/sagemaker-user/.cache/huggingface/datasets/gsm8k/main/1.1.0/37bfb08b1d4fcbb01f06b03d9e1ef5f1fcbd4d3af3d08842c50d7305091285ba)\n"
     ]
    },
    {
     "data": {
      "application/vnd.jupyter.widget-view+json": {
       "model_id": "7431616884a948cf944fc0d796bbe9db",
       "version_major": 2,
       "version_minor": 0
      },
      "text/plain": [
       "  0%|          | 0/2 [00:00<?, ?it/s]"
      ]
     },
     "metadata": {},
     "output_type": "display_data"
    },
    {
     "name": "stderr",
     "output_type": "stream",
     "text": [
      "100%|██████████| 7473/7473 [00:00<00:00, 19357.36it/s]\n",
      "100%|██████████| 1319/1319 [00:00<00:00, 17729.53it/s]\n",
      "2025/10/27 19:25:53 INFO dspy.teleprompt.mipro_optimizer_v2: \n",
      "RUNNING WITH THE FOLLOWING LIGHT AUTO RUN SETTINGS:\n",
      "num_trials: 10\n",
      "minibatch: True\n",
      "num_fewshot_candidates: 6\n",
      "num_instruct_candidates: 3\n",
      "valset size: 100\n",
      "\n",
      "2025/10/27 19:25:53 INFO dspy.teleprompt.mipro_optimizer_v2: \n",
      "==> STEP 1: BOOTSTRAP FEWSHOT EXAMPLES <==\n",
      "2025/10/27 19:25:53 INFO dspy.teleprompt.mipro_optimizer_v2: These will be used as few-shot example candidates for our program and for creating instructions.\n",
      "\n",
      "2025/10/27 19:25:53 INFO dspy.teleprompt.mipro_optimizer_v2: Bootstrapping N=6 sets of demonstrations...\n"
     ]
    },
    {
     "name": "stdout",
     "output_type": "stream",
     "text": [
      "Bootstrapping set 1/6\n",
      "Bootstrapping set 2/6\n",
      "Bootstrapping set 3/6\n"
     ]
    },
    {
     "name": "stderr",
     "output_type": "stream",
     "text": [
      " 10%|█         | 4/40 [00:00<00:06,  5.77it/s]\n"
     ]
    },
    {
     "name": "stdout",
     "output_type": "stream",
     "text": [
      "Bootstrapped 4 full traces after 4 examples for up to 1 rounds, amounting to 4 attempts.\n",
      "Bootstrapping set 4/6\n"
     ]
    },
    {
     "name": "stderr",
     "output_type": "stream",
     "text": [
      "  5%|▌         | 2/40 [00:00<00:03,  9.72it/s]\n"
     ]
    },
    {
     "name": "stdout",
     "output_type": "stream",
     "text": [
      "Bootstrapped 2 full traces after 2 examples for up to 1 rounds, amounting to 2 attempts.\n",
      "Bootstrapping set 5/6\n"
     ]
    },
    {
     "name": "stderr",
     "output_type": "stream",
     "text": [
      "  8%|▊         | 3/40 [00:00<00:03,  9.35it/s]\n"
     ]
    },
    {
     "name": "stdout",
     "output_type": "stream",
     "text": [
      "Bootstrapped 3 full traces after 3 examples for up to 1 rounds, amounting to 3 attempts.\n",
      "Bootstrapping set 6/6\n"
     ]
    },
    {
     "name": "stderr",
     "output_type": "stream",
     "text": [
      " 10%|█         | 4/40 [00:00<00:03, 10.11it/s]\n",
      "2025/10/27 19:25:55 INFO dspy.teleprompt.mipro_optimizer_v2: \n",
      "==> STEP 2: PROPOSE INSTRUCTION CANDIDATES <==\n",
      "2025/10/27 19:25:55 INFO dspy.teleprompt.mipro_optimizer_v2: We will use the few-shot examples from the previous step, a generated dataset summary, a summary of the program code, and a randomly selected prompting tip to propose instructions.\n"
     ]
    },
    {
     "name": "stdout",
     "output_type": "stream",
     "text": [
      "Bootstrapped 4 full traces after 4 examples for up to 1 rounds, amounting to 4 attempts.\n"
     ]
    },
    {
     "name": "stderr",
     "output_type": "stream",
     "text": [
      "2025/10/27 19:25:55 INFO dspy.teleprompt.mipro_optimizer_v2: \n",
      "Proposing N=3 instructions...\n",
      "\n",
      "2025/10/27 19:25:56 INFO dspy.teleprompt.mipro_optimizer_v2: Proposed Instructions for Predictor 0:\n",
      "\n",
      "2025/10/27 19:25:56 INFO dspy.teleprompt.mipro_optimizer_v2: 0: Given the fields `question`, produce the fields `answer`.\n",
      "\n",
      "2025/10/27 19:25:56 INFO dspy.teleprompt.mipro_optimizer_v2: 1: Imagine you are a brilliant mathematician being tested in a high-stakes competition. You will be presented with a variety of mathematical word problems that require multi-step reasoning and strategic thinking. For each problem, analyze the provided `question` carefully and break down your reasoning step by step. After deriving a detailed explanation of how you arrived at your conclusion, provide the final `answer`. Your ability to think critically and articulate your process is crucial to your success in this competition.\n",
      "\n",
      "2025/10/27 19:25:56 INFO dspy.teleprompt.mipro_optimizer_v2: 2: Imagine you are a detective solving a series of complex mathematical mysteries to crack a case that could save a community. Given the fields `question`, intricately analyze the situation and produce the fields `reasoning` and `answer`.\n",
      "\n",
      "2025/10/27 19:25:56 INFO dspy.teleprompt.mipro_optimizer_v2: \n",
      "\n",
      "2025/10/27 19:25:56 INFO dspy.teleprompt.mipro_optimizer_v2: ==> STEP 3: FINDING OPTIMAL PROMPT PARAMETERS <==\n",
      "2025/10/27 19:25:56 INFO dspy.teleprompt.mipro_optimizer_v2: We will evaluate the program over a series of trials with different combinations of instructions and few-shot examples to find the optimal combination using Bayesian Optimization.\n",
      "\n",
      "2025/10/27 19:25:56 INFO dspy.teleprompt.mipro_optimizer_v2: == Trial 1 / 13 - Full Evaluation of Default Program ==\n"
     ]
    },
    {
     "name": "stdout",
     "output_type": "stream",
     "text": [
      "Average Metric: 91.00 / 100 (91.0%): 100%|██████████| 100/100 [00:00<00:00, 170.45it/s]"
     ]
    },
    {
     "name": "stderr",
     "output_type": "stream",
     "text": [
      "2025/10/27 19:25:57 INFO dspy.evaluate.evaluate: Average Metric: 91 / 100 (91.0%)\n",
      "2025/10/27 19:25:57 INFO dspy.teleprompt.mipro_optimizer_v2: Default program score: 91.0\n",
      "\n"
     ]
    },
    {
     "name": "stdout",
     "output_type": "stream",
     "text": [
      "\n"
     ]
    },
    {
     "name": "stderr",
     "output_type": "stream",
     "text": [
      "2025/10/27 19:25:58 INFO dspy.teleprompt.mipro_optimizer_v2: == Trial 2 / 13 - Minibatch ==\n",
      "2025/10/27 19:25:58 INFO dspy.teleprompt.mipro_optimizer_v2: == Trial 3 / 13 - Minibatch ==\n"
     ]
    },
    {
     "name": "stdout",
     "output_type": "stream",
     "text": [
      "\n",
      "  0%|          | 0/35 [00:00<?, ?it/s]\u001b[A\n",
      "Average Metric: 1.00 / 1 (100.0%):   0%|          | 0/35 [00:00<?, ?it/s]\u001b[A\n",
      "Average Metric: 2.00 / 2 (100.0%):   3%|▎         | 1/35 [00:00<00:01, 30.75it/s]\u001b[A\n",
      "Average Metric: 3.00 / 3 (100.0%):   6%|▌         | 2/35 [00:00<00:00, 42.62it/s]\u001b[A\n",
      "Average Metric: 4.00 / 4 (100.0%):   9%|▊         | 3/35 [00:00<00:00, 45.34it/s]\u001b[A\n",
      "Average Metric: 4.00 / 5 (80.0%):  11%|█▏        | 4/35 [00:00<00:00, 48.88it/s]\u001b[A\n",
      "Average Metric: 6.00 / 6 (100.0%):  17%|█▋        | 6/35 [00:00<00:00, 59.73it/s][A\n",
      "Average Metric: 6.00 / 7 (85.7%):  17%|█▋        | 6/35 [00:00<00:00, 52.26it/s]\u001b[A\n",
      "Average Metric: 6.00 / 7 (85.7%):  20%|██        | 7/35 [00:00<00:00, 59.82it/s]\u001b[A\n",
      "Average Metric: 8.00 / 8 (100.0%):  20%|██        | 7/35 [00:00<00:00, 59.73it/s][A\n",
      "Average Metric: 8.00 / 9 (88.9%):  23%|██▎       | 8/35 [00:00<00:00, 59.82it/s]\u001b[A\n",
      "Average Metric: 9.00 / 10 (90.0%):  26%|██▌       | 9/35 [00:00<00:00, 59.82it/s]\u001b[A\n",
      "Average Metric: 10.00 / 10 (100.0%):  26%|██▌       | 9/35 [00:00<00:00, 59.73it/s]\u001b[A\n",
      "Average Metric: 12.00 / 12 (100.0%):  34%|███▍      | 12/35 [00:00<00:00, 58.29it/s][A\n",
      "Average Metric: 10.00 / 13 (76.9%):  34%|███▍      | 12/35 [00:00<00:00, 59.82it/s]\u001b[A\n",
      "Average Metric: 13.00 / 13 (100.0%):  34%|███▍      | 12/35 [00:00<00:00, 58.29it/s][A\n",
      "Average Metric: 11.00 / 14 (78.6%):  37%|███▋      | 13/35 [00:00<00:00, 58.77it/s]\u001b[A\n",
      "Average Metric: 12.00 / 15 (80.0%):  40%|████      | 14/35 [00:00<00:00, 58.77it/s]\u001b[A\n",
      "Average Metric: 14.00 / 15 (93.3%):  40%|████      | 14/35 [00:00<00:00, 58.29it/s] [A\n",
      "Average Metric: 14.00 / 17 (82.4%):  46%|████▌     | 16/35 [00:00<00:00, 58.77it/s]\u001b[A\n",
      "Average Metric: 15.00 / 17 (88.2%):  46%|████▌     | 16/35 [00:00<00:00, 58.29it/s]\u001b[A\n",
      "Average Metric: 15.00 / 19 (78.9%):  51%|█████▏    | 18/35 [00:00<00:00, 58.77it/s]\u001b[A\n",
      "Average Metric: 16.00 / 20 (80.0%):  54%|█████▍    | 19/35 [00:00<00:00, 58.77it/s]\u001b[A\n",
      "Average Metric: 17.00 / 19 (89.5%):  51%|█████▏    | 18/35 [00:00<00:00, 53.75it/s]\u001b[A\n",
      "Average Metric: 17.00 / 21 (81.0%):  57%|█████▋    | 20/35 [00:00<00:00, 62.11it/s]\u001b[A\n",
      "Average Metric: 18.00 / 20 (90.0%):  54%|█████▍    | 19/35 [00:00<00:00, 53.75it/s]\u001b[A\n",
      "Average Metric: 19.00 / 21 (90.5%):  57%|█████▋    | 20/35 [00:00<00:00, 53.75it/s]\u001b[A\n",
      "Average Metric: 20.00 / 24 (83.3%):  66%|██████▌   | 23/35 [00:00<00:00, 62.11it/s]\u001b[A\n",
      "Average Metric: 21.00 / 25 (84.0%):  69%|██████▊   | 24/35 [00:00<00:00, 62.11it/s]\u001b[A\n",
      "Average Metric: 20.00 / 22 (90.9%):  60%|██████    | 21/35 [00:00<00:00, 53.75it/s]\u001b[A\n",
      "Average Metric: 22.00 / 27 (81.5%):  74%|███████▍  | 26/35 [00:00<00:00, 62.11it/s]\u001b[A\n",
      "Average Metric: 22.00 / 24 (91.7%):  69%|██████▊   | 24/35 [00:00<00:00, 53.39it/s]\u001b[A\n",
      "Average Metric: 23.00 / 28 (82.1%):  77%|███████▋  | 27/35 [00:00<00:00, 63.86it/s]\u001b[A\n",
      "Average Metric: 24.00 / 29 (82.8%):  80%|████████  | 28/35 [00:00<00:00, 63.86it/s]\u001b[A\n",
      "Average Metric: 25.00 / 30 (83.3%):  83%|████████▎ | 29/35 [00:00<00:00, 63.86it/s]\u001b[A\n",
      "Average Metric: 24.00 / 26 (92.3%):  71%|███████▏  | 25/35 [00:00<00:00, 53.39it/s]\u001b[A\n",
      "Average Metric: 26.00 / 28 (92.9%):  77%|███████▋  | 27/35 [00:00<00:00, 53.39it/s]\u001b[A\n",
      "Average Metric: 28.00 / 33 (84.8%):  91%|█████████▏| 32/35 [00:00<00:00, 63.86it/s]\u001b[A\n",
      "Average Metric: 29.00 / 34 (85.3%):  94%|█████████▍| 33/35 [00:00<00:00, 63.86it/s]\u001b[A\n",
      "Average Metric: 27.00 / 29 (93.1%):  80%|████████  | 28/35 [00:00<00:00, 53.39it/s]\u001b[A\n",
      "Average Metric: 30.00 / 35 (85.7%): 100%|██████████| 35/35 [00:00<00:00, 61.37it/s]\u001b[A"
     ]
    },
    {
     "name": "stderr",
     "output_type": "stream",
     "text": [
      "2025/10/27 19:25:59 INFO dspy.evaluate.evaluate: Average Metric: 30 / 35 (85.7%)\n"
     ]
    },
    {
     "name": "stdout",
     "output_type": "stream",
     "text": [
      "\n",
      "Average Metric: 28.00 / 30 (93.3%):  86%|████████▌ | 30/35 [00:00<00:00, 49.60it/s]"
     ]
    },
    {
     "name": "stderr",
     "output_type": "stream",
     "text": [
      "2025/10/27 19:25:59 INFO dspy.teleprompt.mipro_optimizer_v2: Score: 85.71 on minibatch of size 35 with parameters ['Predictor 0: Instruction 2', 'Predictor 0: Few-Shot Set 1'].\n"
     ]
    },
    {
     "name": "stdout",
     "output_type": "stream",
     "text": [
      "Average Metric: 29.00 / 31 (93.5%):  86%|████████▌ | 30/35 [00:00<00:00, 49.60it/s]"
     ]
    },
    {
     "name": "stderr",
     "output_type": "stream",
     "text": [
      "2025/10/27 19:25:59 INFO dspy.teleprompt.mipro_optimizer_v2: Minibatch scores so far: [85.71]\n"
     ]
    },
    {
     "name": "stdout",
     "output_type": "stream",
     "text": [
      "Average Metric: 30.00 / 32 (93.8%):  89%|████████▊ | 31/35 [00:00<00:00, 49.60it/s]"
     ]
    },
    {
     "name": "stderr",
     "output_type": "stream",
     "text": [
      "2025/10/27 19:25:59 INFO dspy.teleprompt.mipro_optimizer_v2: Full eval scores so far: [91.0]\n"
     ]
    },
    {
     "name": "stdout",
     "output_type": "stream",
     "text": [
      "Average Metric: 31.00 / 33 (93.9%):  91%|█████████▏| 32/35 [00:00<00:00, 49.60it/s]"
     ]
    },
    {
     "name": "stderr",
     "output_type": "stream",
     "text": [
      "2025/10/27 19:25:59 INFO dspy.teleprompt.mipro_optimizer_v2: Best full score so far: 91.0\n",
      "2025/10/27 19:25:59 INFO dspy.teleprompt.mipro_optimizer_v2: =========================================\n",
      "\n",
      "\n"
     ]
    },
    {
     "name": "stdout",
     "output_type": "stream",
     "text": [
      "Average Metric: 32.00 / 34 (94.1%):  94%|█████████▍| 33/35 [00:00<00:00, 49.60it/s]"
     ]
    },
    {
     "name": "stderr",
     "output_type": "stream",
     "text": [
      "2025/10/27 19:25:59 INFO dspy.teleprompt.mipro_optimizer_v2: == Trial 4 / 13 - Minibatch ==\n"
     ]
    },
    {
     "name": "stdout",
     "output_type": "stream",
     "text": [
      "Average Metric: 33.00 / 35 (94.3%): 100%|██████████| 35/35 [00:00<00:00, 56.79it/s]"
     ]
    },
    {
     "name": "stderr",
     "output_type": "stream",
     "text": [
      "2025/10/27 19:25:59 INFO dspy.evaluate.evaluate: Average Metric: 33 / 35 (94.3%)\n",
      "2025/10/27 19:25:59 INFO dspy.teleprompt.mipro_optimizer_v2: Score: 94.29 on minibatch of size 35 with parameters ['Predictor 0: Instruction 2', 'Predictor 0: Few-Shot Set 5'].\n"
     ]
    },
    {
     "name": "stdout",
     "output_type": "stream",
     "text": [
      "\n"
     ]
    },
    {
     "name": "stderr",
     "output_type": "stream",
     "text": [
      "2025/10/27 19:25:59 INFO dspy.teleprompt.mipro_optimizer_v2: Minibatch scores so far: [85.71, 94.29]\n",
      "2025/10/27 19:25:59 INFO dspy.teleprompt.mipro_optimizer_v2: Full eval scores so far: [91.0]\n"
     ]
    },
    {
     "name": "stdout",
     "output_type": "stream",
     "text": [
      "Average Metric: 0.00 / 1 (0.0%):   0%|          | 0/35 [00:00<?, ?it/s]"
     ]
    },
    {
     "name": "stderr",
     "output_type": "stream",
     "text": [
      "2025/10/27 19:25:59 INFO dspy.teleprompt.mipro_optimizer_v2: Best full score so far: 91.0\n",
      "2025/10/27 19:25:59 INFO dspy.teleprompt.mipro_optimizer_v2: =========================================\n",
      "\n",
      "\n",
      "2025/10/27 19:25:59 INFO dspy.teleprompt.mipro_optimizer_v2: == Trial 5 / 13 - Minibatch ==\n"
     ]
    },
    {
     "name": "stdout",
     "output_type": "stream",
     "text": [
      "Average Metric: 31.00 / 35 (88.6%): 100%|██████████| 35/35 [00:23<00:00,  1.48it/s]"
     ]
    },
    {
     "name": "stderr",
     "output_type": "stream",
     "text": [
      "2025/10/27 19:26:22 INFO dspy.evaluate.evaluate: Average Metric: 31 / 35 (88.6%)\n",
      "2025/10/27 19:26:22 INFO dspy.teleprompt.mipro_optimizer_v2: Score: 88.57 on minibatch of size 35 with parameters ['Predictor 0: Instruction 0', 'Predictor 0: Few-Shot Set 1'].\n",
      "2025/10/27 19:26:22 INFO dspy.teleprompt.mipro_optimizer_v2: Minibatch scores so far: [85.71, 94.29, 88.57]\n",
      "2025/10/27 19:26:22 INFO dspy.teleprompt.mipro_optimizer_v2: Full eval scores so far: [91.0]\n",
      "2025/10/27 19:26:22 INFO dspy.teleprompt.mipro_optimizer_v2: Best full score so far: 91.0\n",
      "2025/10/27 19:26:22 INFO dspy.teleprompt.mipro_optimizer_v2: =========================================\n",
      "\n",
      "\n"
     ]
    },
    {
     "name": "stdout",
     "output_type": "stream",
     "text": [
      "\n",
      "Average Metric: 31.00 / 35 (88.6%): 100%|██████████| 35/35 [00:24<00:00,  1.45it/s]"
     ]
    },
    {
     "name": "stderr",
     "output_type": "stream",
     "text": [
      "2025/10/27 19:26:23 INFO dspy.evaluate.evaluate: Average Metric: 31 / 35 (88.6%)\n",
      "2025/10/27 19:26:23 INFO dspy.teleprompt.mipro_optimizer_v2: Score: 88.57 on minibatch of size 35 with parameters ['Predictor 0: Instruction 0', 'Predictor 0: Few-Shot Set 1'].\n",
      "2025/10/27 19:26:23 INFO dspy.teleprompt.mipro_optimizer_v2: Minibatch scores so far: [85.71, 94.29, 88.57, 88.57]\n",
      "2025/10/27 19:26:23 INFO dspy.teleprompt.mipro_optimizer_v2: Full eval scores so far: [91.0]\n",
      "2025/10/27 19:26:23 INFO dspy.teleprompt.mipro_optimizer_v2: Best full score so far: 91.0\n",
      "2025/10/27 19:26:23 INFO dspy.teleprompt.mipro_optimizer_v2: =========================================\n",
      "\n",
      "\n"
     ]
    },
    {
     "name": "stdout",
     "output_type": "stream",
     "text": [
      "\n"
     ]
    },
    {
     "name": "stderr",
     "output_type": "stream",
     "text": [
      "2025/10/27 19:26:29 INFO dspy.teleprompt.mipro_optimizer_v2: == Trial 6 / 13 - Minibatch ==\n"
     ]
    },
    {
     "name": "stdout",
     "output_type": "stream",
     "text": [
      "Average Metric: 29.00 / 35 (82.9%): 100%|██████████| 35/35 [00:00<00:00, 162.28it/s]"
     ]
    },
    {
     "name": "stderr",
     "output_type": "stream",
     "text": [
      "2025/10/27 19:26:29 INFO dspy.evaluate.evaluate: Average Metric: 29 / 35 (82.9%)\n",
      "2025/10/27 19:26:29 INFO dspy.teleprompt.mipro_optimizer_v2: Score: 82.86 on minibatch of size 35 with parameters ['Predictor 0: Instruction 1', 'Predictor 0: Few-Shot Set 3'].\n",
      "2025/10/27 19:26:29 INFO dspy.teleprompt.mipro_optimizer_v2: Minibatch scores so far: [85.71, 94.29, 88.57, 88.57, 82.86]\n",
      "2025/10/27 19:26:29 INFO dspy.teleprompt.mipro_optimizer_v2: Full eval scores so far: [91.0]\n",
      "2025/10/27 19:26:29 INFO dspy.teleprompt.mipro_optimizer_v2: Best full score so far: 91.0\n",
      "2025/10/27 19:26:29 INFO dspy.teleprompt.mipro_optimizer_v2: =========================================\n",
      "\n",
      "\n",
      "2025/10/27 19:26:29 INFO dspy.teleprompt.mipro_optimizer_v2: ===== Trial 7 / 13 - Full Evaluation =====\n",
      "2025/10/27 19:26:29 INFO dspy.teleprompt.mipro_optimizer_v2: Doing full eval on next top averaging program (Avg Score: 94.29) from minibatch trials...\n"
     ]
    },
    {
     "name": "stdout",
     "output_type": "stream",
     "text": [
      "\n",
      "Average Metric: 90.00 / 96 (93.8%):  95%|█████████▌| 95/100 [00:00<00:00, 168.86it/s] "
     ]
    },
    {
     "name": "stderr",
     "output_type": "stream",
     "text": [
      "2025/10/27 19:26:30 INFO dspy.teleprompt.mipro_optimizer_v2: == Trial 7 / 13 - Minibatch ==\n"
     ]
    },
    {
     "name": "stdout",
     "output_type": "stream",
     "text": [
      "Average Metric: 93.00 / 100 (93.0%): 100%|██████████| 100/100 [00:00<00:00, 160.45it/s]"
     ]
    },
    {
     "name": "stderr",
     "output_type": "stream",
     "text": [
      "2025/10/27 19:26:30 INFO dspy.evaluate.evaluate: Average Metric: 93 / 100 (93.0%)\n"
     ]
    },
    {
     "name": "stdout",
     "output_type": "stream",
     "text": [
      "\n"
     ]
    },
    {
     "name": "stderr",
     "output_type": "stream",
     "text": [
      "2025/10/27 19:26:30 INFO dspy.teleprompt.mipro_optimizer_v2: \u001b[92mNew best full eval score!\u001b[0m Score: 93.0\n"
     ]
    },
    {
     "name": "stdout",
     "output_type": "stream",
     "text": [
      "Average Metric: 4.00 / 4 (100.0%):   9%|▊         | 3/35 [00:00<00:00, 60.77it/s]"
     ]
    },
    {
     "name": "stderr",
     "output_type": "stream",
     "text": [
      "2025/10/27 19:26:30 INFO dspy.teleprompt.mipro_optimizer_v2: Full eval scores so far: [91.0, 93.0]\n",
      "2025/10/27 19:26:30 INFO dspy.teleprompt.mipro_optimizer_v2: Best full score so far: 93.0\n",
      "2025/10/27 19:26:30 INFO dspy.teleprompt.mipro_optimizer_v2: =======================\n",
      "2025/10/27 19:26:30 INFO dspy.teleprompt.mipro_optimizer_v2: \n",
      "\n"
     ]
    },
    {
     "name": "stdout",
     "output_type": "stream",
     "text": [
      "Average Metric: 5.00 / 5 (100.0%):  11%|█▏        | 4/35 [00:00<00:00, 72.04it/s]"
     ]
    },
    {
     "name": "stderr",
     "output_type": "stream",
     "text": [
      "2025/10/27 19:26:30 INFO dspy.teleprompt.mipro_optimizer_v2: == Trial 9 / 13 - Minibatch ==\n"
     ]
    },
    {
     "name": "stdout",
     "output_type": "stream",
     "text": [
      "Average Metric: 32.00 / 35 (91.4%): 100%|██████████| 35/35 [00:00<00:00, 115.83it/s]"
     ]
    },
    {
     "name": "stderr",
     "output_type": "stream",
     "text": [
      "2025/10/27 19:26:30 INFO dspy.evaluate.evaluate: Average Metric: 32 / 35 (91.4%)\n"
     ]
    },
    {
     "name": "stdout",
     "output_type": "stream",
     "text": [
      "\n"
     ]
    },
    {
     "name": "stderr",
     "output_type": "stream",
     "text": [
      "2025/10/27 19:26:30 INFO dspy.teleprompt.mipro_optimizer_v2: Score: 91.43 on minibatch of size 35 with parameters ['Predictor 0: Instruction 1', 'Predictor 0: Few-Shot Set 5'].\n",
      "2025/10/27 19:26:30 INFO dspy.teleprompt.mipro_optimizer_v2: Minibatch scores so far: [85.71, 94.29, 88.57, 88.57, 82.86, 91.43]\n",
      "2025/10/27 19:26:30 INFO dspy.teleprompt.mipro_optimizer_v2: Full eval scores so far: [91.0, 93.0]\n",
      "2025/10/27 19:26:30 INFO dspy.teleprompt.mipro_optimizer_v2: Best full score so far: 93.0\n",
      "2025/10/27 19:26:30 INFO dspy.teleprompt.mipro_optimizer_v2: =========================================\n",
      "\n",
      "\n",
      "2025/10/27 19:26:30 INFO dspy.teleprompt.mipro_optimizer_v2: == Trial 10 / 13 - Minibatch ==\n"
     ]
    },
    {
     "name": "stdout",
     "output_type": "stream",
     "text": [
      "Average Metric: 32.00 / 35 (91.4%): 100%|██████████| 35/35 [00:00<00:00, 177.43it/s]"
     ]
    },
    {
     "name": "stderr",
     "output_type": "stream",
     "text": [
      "2025/10/27 19:26:30 INFO dspy.evaluate.evaluate: Average Metric: 32 / 35 (91.4%)\n"
     ]
    },
    {
     "name": "stdout",
     "output_type": "stream",
     "text": [
      "\n"
     ]
    },
    {
     "name": "stderr",
     "output_type": "stream",
     "text": [
      "2025/10/27 19:26:30 INFO dspy.teleprompt.mipro_optimizer_v2: Score: 91.43 on minibatch of size 35 with parameters ['Predictor 0: Instruction 0', 'Predictor 0: Few-Shot Set 3'].\n",
      "2025/10/27 19:26:30 INFO dspy.teleprompt.mipro_optimizer_v2: Minibatch scores so far: [85.71, 94.29, 88.57, 88.57, 82.86, 91.43, 91.43]\n",
      "2025/10/27 19:26:30 INFO dspy.teleprompt.mipro_optimizer_v2: Full eval scores so far: [91.0, 93.0]\n",
      "2025/10/27 19:26:30 INFO dspy.teleprompt.mipro_optimizer_v2: Best full score so far: 93.0\n",
      "2025/10/27 19:26:30 INFO dspy.teleprompt.mipro_optimizer_v2: ==========================================\n",
      "\n",
      "\n",
      "2025/10/27 19:26:30 INFO dspy.teleprompt.mipro_optimizer_v2: == Trial 11 / 13 - Minibatch ==\n"
     ]
    },
    {
     "name": "stdout",
     "output_type": "stream",
     "text": [
      "Average Metric: 33.00 / 35 (94.3%): 100%|██████████| 35/35 [00:06<00:00,  5.62it/s] "
     ]
    },
    {
     "name": "stderr",
     "output_type": "stream",
     "text": [
      "2025/10/27 19:26:36 INFO dspy.evaluate.evaluate: Average Metric: 33 / 35 (94.3%)\n",
      "2025/10/27 19:26:36 INFO dspy.teleprompt.mipro_optimizer_v2: Score: 94.29 on minibatch of size 35 with parameters ['Predictor 0: Instruction 1', 'Predictor 0: Few-Shot Set 3'].\n",
      "2025/10/27 19:26:36 INFO dspy.teleprompt.mipro_optimizer_v2: Minibatch scores so far: [85.71, 94.29, 88.57, 88.57, 82.86, 91.43, 91.43, 94.29]\n",
      "2025/10/27 19:26:36 INFO dspy.teleprompt.mipro_optimizer_v2: Full eval scores so far: [91.0, 93.0]\n",
      "2025/10/27 19:26:36 INFO dspy.teleprompt.mipro_optimizer_v2: Best full score so far: 93.0\n",
      "2025/10/27 19:26:36 INFO dspy.teleprompt.mipro_optimizer_v2: ==========================================\n",
      "\n",
      "\n",
      "2025/10/27 19:26:36 INFO dspy.teleprompt.mipro_optimizer_v2: == Trial 12 / 13 - Minibatch ==\n"
     ]
    },
    {
     "name": "stdout",
     "output_type": "stream",
     "text": [
      "\n",
      "Average Metric: 30.00 / 35 (85.7%): 100%|██████████| 35/35 [00:47<00:00,  1.36s/it]"
     ]
    },
    {
     "name": "stderr",
     "output_type": "stream",
     "text": [
      "2025/10/27 19:27:17 INFO dspy.evaluate.evaluate: Average Metric: 30 / 35 (85.7%)\n",
      "2025/10/27 19:27:17 INFO dspy.teleprompt.mipro_optimizer_v2: Score: 85.71 on minibatch of size 35 with parameters ['Predictor 0: Instruction 1', 'Predictor 0: Few-Shot Set 4'].\n",
      "2025/10/27 19:27:17 INFO dspy.teleprompt.mipro_optimizer_v2: Minibatch scores so far: [85.71, 94.29, 88.57, 88.57, 82.86, 91.43, 91.43, 94.29, 85.71]\n",
      "2025/10/27 19:27:17 INFO dspy.teleprompt.mipro_optimizer_v2: Full eval scores so far: [91.0, 93.0]\n",
      "2025/10/27 19:27:17 INFO dspy.teleprompt.mipro_optimizer_v2: Best full score so far: 93.0\n",
      "2025/10/27 19:27:17 INFO dspy.teleprompt.mipro_optimizer_v2: =========================================\n",
      "\n",
      "\n"
     ]
    },
    {
     "name": "stdout",
     "output_type": "stream",
     "text": [
      "\n",
      "Average Metric: 31.00 / 35 (88.6%): 100%|██████████| 35/35 [01:12<00:00,  2.06s/it]"
     ]
    },
    {
     "name": "stderr",
     "output_type": "stream",
     "text": [
      "2025/10/27 19:27:48 INFO dspy.evaluate.evaluate: Average Metric: 31 / 35 (88.6%)\n",
      "2025/10/27 19:27:48 INFO dspy.teleprompt.mipro_optimizer_v2: Score: 88.57 on minibatch of size 35 with parameters ['Predictor 0: Instruction 1', 'Predictor 0: Few-Shot Set 1'].\n",
      "2025/10/27 19:27:48 INFO dspy.teleprompt.mipro_optimizer_v2: Minibatch scores so far: [85.71, 94.29, 88.57, 88.57, 82.86, 91.43, 91.43, 94.29, 85.71, 88.57]\n",
      "2025/10/27 19:27:48 INFO dspy.teleprompt.mipro_optimizer_v2: Full eval scores so far: [91.0, 93.0]\n",
      "2025/10/27 19:27:48 INFO dspy.teleprompt.mipro_optimizer_v2: Best full score so far: 93.0\n",
      "2025/10/27 19:27:48 INFO dspy.teleprompt.mipro_optimizer_v2: ==========================================\n",
      "\n",
      "\n",
      "2025/10/27 19:27:48 INFO dspy.teleprompt.mipro_optimizer_v2: ===== Trial 13 / 13 - Full Evaluation =====\n",
      "2025/10/27 19:27:48 INFO dspy.teleprompt.mipro_optimizer_v2: Doing full eval on next top averaging program (Avg Score: 91.43) from minibatch trials...\n"
     ]
    },
    {
     "name": "stdout",
     "output_type": "stream",
     "text": [
      "\n",
      "Average Metric: 92.00 / 100 (92.0%): 100%|██████████| 100/100 [00:50<00:00,  1.97it/s]"
     ]
    },
    {
     "name": "stderr",
     "output_type": "stream",
     "text": [
      "2025/10/27 19:28:39 INFO dspy.evaluate.evaluate: Average Metric: 92 / 100 (92.0%)\n",
      "2025/10/27 19:28:39 INFO dspy.teleprompt.mipro_optimizer_v2: Full eval scores so far: [91.0, 93.0, 92.0]\n",
      "2025/10/27 19:28:39 INFO dspy.teleprompt.mipro_optimizer_v2: Best full score so far: 93.0\n",
      "2025/10/27 19:28:39 INFO dspy.teleprompt.mipro_optimizer_v2: =======================\n",
      "2025/10/27 19:28:39 INFO dspy.teleprompt.mipro_optimizer_v2: \n",
      "\n",
      "2025/10/27 19:28:39 INFO dspy.teleprompt.mipro_optimizer_v2: Returning best identified program with score 93.0!\n"
     ]
    },
    {
     "name": "stdout",
     "output_type": "stream",
     "text": [
      "\n"
     ]
    }
   ],
   "source": [
    "gsm8k = GSM8K()\n",
    "\n",
    "optimized_program = teleprompter.compile(\n",
    "    dspy.ChainOfThought(\"question -> answer\"),\n",
    "    trainset=gsm8k.train,\n",
    "    n_jobs=2,\n",
    "    sampler=qEI.qEISampler()\n",
    ")"
   ]
  },
  {
   "cell_type": "code",
   "execution_count": null,
   "id": "c7a57dfe-c786-45ff-837f-9d254fed5491",
   "metadata": {},
   "outputs": [],
   "source": []
  }
 ],
 "metadata": {
  "kernelspec": {
   "display_name": "Python 3 (ipykernel)",
   "language": "python",
   "name": "python3"
  },
  "language_info": {
   "codemirror_mode": {
    "name": "ipython",
    "version": 3
   },
   "file_extension": ".py",
   "mimetype": "text/x-python",
   "name": "python",
   "nbconvert_exporter": "python",
   "pygments_lexer": "ipython3",
   "version": "3.11.11"
  }
 },
 "nbformat": 4,
 "nbformat_minor": 5
}
