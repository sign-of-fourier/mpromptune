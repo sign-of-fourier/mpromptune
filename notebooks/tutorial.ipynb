{
 "cells": [
  {
   "cell_type": "code",
   "execution_count": 5,
   "id": "5036f684-b55e-4118-806b-81a7ac7d7c90",
   "metadata": {},
   "outputs": [],
   "source": [
    "from mpromptune import qEI\n",
    "import os\n",
    "import dspy\n",
    "from dspy.datasets.gsm8k import GSM8K, gsm8k_metric\n",
    "from dspy.teleprompt import MIPROv2\n",
    "import random\n",
    "import optuna\n",
    "import numpy as np"
   ]
  },
  {
   "cell_type": "code",
   "execution_count": 6,
   "id": "fbce21f6-e510-4896-be70-27aca561eba8",
   "metadata": {},
   "outputs": [],
   "source": [
    "lm = dspy.LM('openai/gpt-4o-mini', api_key=os.environ['OPEN_AI_KEY'])\n",
    "dspy.configure(lm=lm)\n",
    "teleprompter = MIPROv2(\n",
    "    metric=gsm8k_metric,\n",
    "    auto=\"light\",\n",
    "    num_threads=2\n",
    ")"
   ]
  },
  {
   "cell_type": "code",
   "execution_count": 7,
   "id": "d00316b2-39bc-46be-a6d2-4505e60ebf0b",
   "metadata": {},
   "outputs": [],
   "source": [
    "sampler_config={'sampler': 'qei',\n",
    "                'max_space_size': 100,\n",
    "                'n_batches': 200,\n",
    "                'batch_size': 4,\n",
    "                'min_cold_start': 4}\n"
   ]
  },
  {
   "cell_type": "code",
   "execution_count": 8,
   "id": "1f0d9676-1b3b-474e-a656-ed806890b002",
   "metadata": {
    "scrolled": true
   },
   "outputs": [
    {
     "name": "stderr",
     "output_type": "stream",
     "text": [
      "Reusing dataset gsm8k (/home/sagemaker-user/.cache/huggingface/datasets/gsm8k/main/1.1.0/37bfb08b1d4fcbb01f06b03d9e1ef5f1fcbd4d3af3d08842c50d7305091285ba)\n"
     ]
    },
    {
     "data": {
      "application/vnd.jupyter.widget-view+json": {
       "model_id": "63472057286b4882a62272d09866a0b1",
       "version_major": 2,
       "version_minor": 0
      },
      "text/plain": [
       "  0%|          | 0/2 [00:00<?, ?it/s]"
      ]
     },
     "metadata": {},
     "output_type": "display_data"
    },
    {
     "name": "stderr",
     "output_type": "stream",
     "text": [
      "100%|██████████| 7473/7473 [00:00<00:00, 19970.36it/s]\n",
      "100%|██████████| 1319/1319 [00:00<00:00, 20617.55it/s]\n",
      "2025/10/27 15:00:21 INFO dspy.teleprompt.mipro_optimizer_v2: \n",
      "RUNNING WITH THE FOLLOWING LIGHT AUTO RUN SETTINGS:\n",
      "num_trials: 10\n",
      "minibatch: True\n",
      "num_fewshot_candidates: 6\n",
      "num_instruct_candidates: 3\n",
      "valset size: 100\n",
      "\n",
      "2025/10/27 15:00:21 INFO dspy.teleprompt.mipro_optimizer_v2: \n",
      "==> STEP 1: BOOTSTRAP FEWSHOT EXAMPLES <==\n",
      "2025/10/27 15:00:21 INFO dspy.teleprompt.mipro_optimizer_v2: These will be used as few-shot example candidates for our program and for creating instructions.\n",
      "\n",
      "2025/10/27 15:00:21 INFO dspy.teleprompt.mipro_optimizer_v2: Bootstrapping N=6 sets of demonstrations...\n"
     ]
    },
    {
     "name": "stdout",
     "output_type": "stream",
     "text": [
      "Bootstrapping set 1/6\n",
      "Bootstrapping set 2/6\n",
      "Bootstrapping set 3/6\n"
     ]
    },
    {
     "name": "stderr",
     "output_type": "stream",
     "text": [
      " 10%|█         | 4/40 [00:00<00:06,  5.60it/s]\n"
     ]
    },
    {
     "name": "stdout",
     "output_type": "stream",
     "text": [
      "Bootstrapped 4 full traces after 4 examples for up to 1 rounds, amounting to 4 attempts.\n",
      "Bootstrapping set 4/6\n"
     ]
    },
    {
     "name": "stderr",
     "output_type": "stream",
     "text": [
      "  5%|▌         | 2/40 [00:00<00:04,  9.22it/s]\n"
     ]
    },
    {
     "name": "stdout",
     "output_type": "stream",
     "text": [
      "Bootstrapped 2 full traces after 2 examples for up to 1 rounds, amounting to 2 attempts.\n",
      "Bootstrapping set 5/6\n"
     ]
    },
    {
     "name": "stderr",
     "output_type": "stream",
     "text": [
      "  8%|▊         | 3/40 [00:00<00:03,  9.42it/s]\n"
     ]
    },
    {
     "name": "stdout",
     "output_type": "stream",
     "text": [
      "Bootstrapped 3 full traces after 3 examples for up to 1 rounds, amounting to 3 attempts.\n",
      "Bootstrapping set 6/6\n"
     ]
    },
    {
     "name": "stderr",
     "output_type": "stream",
     "text": [
      " 10%|█         | 4/40 [00:00<00:04,  8.75it/s]\n",
      "2025/10/27 15:00:23 INFO dspy.teleprompt.mipro_optimizer_v2: \n",
      "==> STEP 2: PROPOSE INSTRUCTION CANDIDATES <==\n",
      "2025/10/27 15:00:23 INFO dspy.teleprompt.mipro_optimizer_v2: We will use the few-shot examples from the previous step, a generated dataset summary, a summary of the program code, and a randomly selected prompting tip to propose instructions.\n"
     ]
    },
    {
     "name": "stdout",
     "output_type": "stream",
     "text": [
      "Bootstrapped 4 full traces after 4 examples for up to 1 rounds, amounting to 4 attempts.\n"
     ]
    },
    {
     "name": "stderr",
     "output_type": "stream",
     "text": [
      "2025/10/27 15:00:23 INFO dspy.teleprompt.mipro_optimizer_v2: \n",
      "Proposing N=3 instructions...\n",
      "\n",
      "2025/10/27 15:00:24 INFO dspy.teleprompt.mipro_optimizer_v2: Proposed Instructions for Predictor 0:\n",
      "\n",
      "2025/10/27 15:00:24 INFO dspy.teleprompt.mipro_optimizer_v2: 0: Given the fields `question`, produce the fields `answer`.\n",
      "\n",
      "2025/10/27 15:00:24 INFO dspy.teleprompt.mipro_optimizer_v2: 1: Imagine you are a brilliant mathematician being tested in a high-stakes competition. You will be presented with a variety of mathematical word problems that require multi-step reasoning and strategic thinking. For each problem, analyze the provided `question` carefully and break down your reasoning step by step. After deriving a detailed explanation of how you arrived at your conclusion, provide the final `answer`. Your ability to think critically and articulate your process is crucial to your success in this competition.\n",
      "\n",
      "2025/10/27 15:00:24 INFO dspy.teleprompt.mipro_optimizer_v2: 2: Imagine you are a detective solving a series of complex mathematical mysteries to crack a case that could save a community. Given the fields `question`, intricately analyze the situation and produce the fields `reasoning` and `answer`.\n",
      "\n",
      "2025/10/27 15:00:24 INFO dspy.teleprompt.mipro_optimizer_v2: \n",
      "\n",
      "2025/10/27 15:00:24 INFO dspy.teleprompt.mipro_optimizer_v2: ==> STEP 3: FINDING OPTIMAL PROMPT PARAMETERS <==\n",
      "2025/10/27 15:00:24 INFO dspy.teleprompt.mipro_optimizer_v2: We will evaluate the program over a series of trials with different combinations of instructions and few-shot examples to find the optimal combination using Bayesian Optimization.\n",
      "\n",
      "2025/10/27 15:00:24 INFO dspy.teleprompt.mipro_optimizer_v2: == Trial 1 / 13 - Full Evaluation of Default Program ==\n"
     ]
    },
    {
     "name": "stdout",
     "output_type": "stream",
     "text": [
      "Average Metric: 91.00 / 100 (91.0%): 100%|██████████| 100/100 [00:00<00:00, 154.84it/s]"
     ]
    },
    {
     "name": "stderr",
     "output_type": "stream",
     "text": [
      "2025/10/27 15:00:25 INFO dspy.evaluate.evaluate: Average Metric: 91 / 100 (91.0%)\n",
      "2025/10/27 15:00:25 INFO dspy.teleprompt.mipro_optimizer_v2: Default program score: 91.0\n",
      "\n"
     ]
    },
    {
     "name": "stdout",
     "output_type": "stream",
     "text": [
      "\n"
     ]
    },
    {
     "name": "stderr",
     "output_type": "stream",
     "text": [
      "2025/10/27 15:00:26 INFO dspy.teleprompt.mipro_optimizer_v2: == Trial 2 / 13 - Minibatch ==\n",
      "2025/10/27 15:00:26 INFO dspy.teleprompt.mipro_optimizer_v2: == Trial 3 / 13 - Minibatch ==\n"
     ]
    },
    {
     "name": "stdout",
     "output_type": "stream",
     "text": [
      "\n",
      "  0%|          | 0/35 [00:00<?, ?it/s]\u001b[A\n",
      "Average Metric: 1.00 / 1 (100.0%):   0%|          | 0/35 [00:00<?, ?it/s]\u001b[A\n",
      "Average Metric: 2.00 / 2 (100.0%):   3%|▎         | 1/35 [00:00<00:00, 83.69it/s]\u001b[A\n",
      "Average Metric: 1.00 / 1 (100.0%):   0%|          | 0/35 [00:00<?, ?it/s].28it/s]\u001b[A\n",
      "Average Metric: 7.00 / 7 (100.0%):  17%|█▋        | 6/35 [00:00<00:00, 48.44it/s]\u001b[A\n",
      "Average Metric: 5.00 / 5 (100.0%):  11%|█▏        | 4/35 [00:00<00:00, 32.20it/s]\u001b[A\n",
      "Average Metric: 33.00 / 35 (94.3%): 100%|██████████| 35/35 [00:00<00:00, 108.59it/s]"
     ]
    },
    {
     "name": "stderr",
     "output_type": "stream",
     "text": [
      "2025/10/27 15:00:26 INFO dspy.evaluate.evaluate: Average Metric: 33 / 35 (94.3%)\n"
     ]
    },
    {
     "name": "stdout",
     "output_type": "stream",
     "text": [
      "\n"
     ]
    },
    {
     "name": "stderr",
     "output_type": "stream",
     "text": [
      "2025/10/27 15:00:26 INFO dspy.teleprompt.mipro_optimizer_v2: Score: 94.29 on minibatch of size 35 with parameters ['Predictor 0: Instruction 2', 'Predictor 0: Few-Shot Set 1'].\n",
      "2025/10/27 15:00:26 INFO dspy.teleprompt.mipro_optimizer_v2: Minibatch scores so far: [94.29]\n",
      "2025/10/27 15:00:26 INFO dspy.teleprompt.mipro_optimizer_v2: Full eval scores so far: [91.0]\n",
      "2025/10/27 15:00:26 INFO dspy.teleprompt.mipro_optimizer_v2: Best full score so far: 91.0\n",
      "2025/10/27 15:00:26 INFO dspy.teleprompt.mipro_optimizer_v2: =========================================\n",
      "\n",
      "\n",
      "2025/10/27 15:00:26 INFO dspy.teleprompt.mipro_optimizer_v2: == Trial 4 / 13 - Minibatch ==\n"
     ]
    },
    {
     "name": "stdout",
     "output_type": "stream",
     "text": [
      "Average Metric: 31.00 / 35 (88.6%): 100%|██████████| 35/35 [00:00<00:00, 125.95it/s]"
     ]
    },
    {
     "name": "stderr",
     "output_type": "stream",
     "text": [
      "2025/10/27 15:00:27 INFO dspy.evaluate.evaluate: Average Metric: 31 / 35 (88.6%)\n",
      "2025/10/27 15:00:27 INFO dspy.teleprompt.mipro_optimizer_v2: Score: 88.57 on minibatch of size 35 with parameters ['Predictor 0: Instruction 2', 'Predictor 0: Few-Shot Set 4'].\n",
      "2025/10/27 15:00:27 INFO dspy.teleprompt.mipro_optimizer_v2: Minibatch scores so far: [94.29, 88.57]\n",
      "2025/10/27 15:00:27 INFO dspy.teleprompt.mipro_optimizer_v2: Full eval scores so far: [91.0]\n",
      "2025/10/27 15:00:27 INFO dspy.teleprompt.mipro_optimizer_v2: Best full score so far: 91.0\n"
     ]
    },
    {
     "name": "stdout",
     "output_type": "stream",
     "text": [
      "\n"
     ]
    },
    {
     "name": "stderr",
     "output_type": "stream",
     "text": [
      "2025/10/27 15:00:27 INFO dspy.teleprompt.mipro_optimizer_v2: =========================================\n",
      "\n",
      "\n",
      "2025/10/27 15:00:27 INFO dspy.teleprompt.mipro_optimizer_v2: == Trial 5 / 13 - Minibatch ==\n"
     ]
    },
    {
     "name": "stdout",
     "output_type": "stream",
     "text": [
      "Average Metric: 16.00 / 16 (100.0%):  43%|████▎     | 15/35 [00:07<00:11,  1.78it/s]\n",
      "Average Metric: 6.00 / 6 (100.0%):  14%|█▍        | 5/35 [00:07<00:00, 39.31it/s]\u001b[A\n",
      "Average Metric: 7.00 / 7 (100.0%):  17%|█▋        | 6/35 [00:07<00:00, 39.31it/s]\u001b[A\n",
      "Average Metric: 8.00 / 8 (100.0%):  20%|██        | 7/35 [00:07<00:00, 39.31it/s]\u001b[A\n",
      "Average Metric: 9.00 / 9 (100.0%):  23%|██▎       | 8/35 [00:07<00:00, 39.31it/s]\u001b[A\n",
      "Average Metric: 9.00 / 9 (100.0%):  26%|██▌       | 9/35 [00:07<00:27,  1.06s/it]\u001b[A\n",
      "Average Metric: 9.00 / 10 (90.0%):  26%|██▌       | 9/35 [00:07<00:27,  1.06s/it]\u001b[A\n",
      "Average Metric: 10.00 / 11 (90.9%):  29%|██▊       | 10/35 [00:07<00:26,  1.06s/it]\u001b[A\n",
      "Average Metric: 11.00 / 12 (91.7%):  31%|███▏      | 11/35 [00:07<00:25,  1.06s/it]\u001b[A\n",
      "Average Metric: 12.00 / 13 (92.3%):  34%|███▍      | 12/35 [00:08<00:24,  1.06s/it]\u001b[A\n",
      "Average Metric: 13.00 / 14 (92.9%):  37%|███▋      | 13/35 [00:08<00:23,  1.06s/it]\u001b[A\n",
      "Average Metric: 14.00 / 15 (93.3%):  40%|████      | 14/35 [00:08<00:22,  1.06s/it]\u001b[A\n",
      "Average Metric: 14.00 / 16 (87.5%):  43%|████▎     | 15/35 [00:08<00:21,  1.06s/it]\u001b[A\n",
      "Average Metric: 15.00 / 17 (88.2%):  46%|████▌     | 16/35 [00:08<00:20,  1.06s/it]\u001b[A\n",
      "Average Metric: 16.00 / 18 (88.9%):  49%|████▊     | 17/35 [00:08<00:19,  1.06s/it]\u001b[A\n",
      "Average Metric: 17.00 / 19 (89.5%):  51%|█████▏    | 18/35 [00:08<00:17,  1.06s/it]\u001b[A\n",
      "Average Metric: 18.00 / 20 (90.0%):  54%|█████▍    | 19/35 [00:08<00:16,  1.06s/it]\u001b[A\n",
      "Average Metric: 19.00 / 21 (90.5%):  57%|█████▋    | 20/35 [00:08<00:15,  1.06s/it]\u001b[A\n",
      "Average Metric: 19.00 / 21 (90.5%):  60%|██████    | 21/35 [00:08<00:04,  2.81it/s]\u001b[A\n",
      "Average Metric: 20.00 / 22 (90.9%):  60%|██████    | 21/35 [00:08<00:04,  2.81it/s]\u001b[A\n",
      "Average Metric: 21.00 / 23 (91.3%):  63%|██████▎   | 22/35 [00:08<00:04,  2.81it/s]\u001b[A\n",
      "Average Metric: 21.00 / 24 (87.5%):  66%|██████▌   | 23/35 [00:08<00:04,  2.81it/s]\u001b[A\n",
      "Average Metric: 22.00 / 25 (88.0%):  69%|██████▊   | 24/35 [00:12<00:03,  2.81it/s]\u001b[A\n",
      "Average Metric: 22.00 / 25 (88.0%):  71%|███████▏  | 25/35 [00:12<00:05,  1.91it/s]\u001b[A\n",
      "Average Metric: 23.00 / 26 (88.5%):  71%|███████▏  | 25/35 [00:12<00:05,  1.91it/s]\u001b[A\n",
      "Average Metric: 24.00 / 27 (88.9%):  74%|███████▍  | 26/35 [00:12<00:04,  1.91it/s]\u001b[A\n",
      "Average Metric: 25.00 / 28 (89.3%):  77%|███████▋  | 27/35 [00:12<00:04,  1.91it/s]\u001b[A\n",
      "Average Metric: 17.00 / 17 (100.0%):  49%|████▊     | 17/35 [00:12<00:13,  1.30it/s][A\n",
      "Average Metric: 27.00 / 30 (90.0%):  83%|████████▎ | 29/35 [00:14<00:03,  1.91it/s]\u001b[A\n",
      "Average Metric: 27.00 / 30 (90.0%):  86%|████████▌ | 30/35 [00:14<00:02,  2.21it/s]\u001b[A\n",
      "Average Metric: 28.00 / 31 (90.3%):  86%|████████▌ | 30/35 [00:14<00:02,  2.21it/s]\u001b[A\n",
      "Average Metric: 18.00 / 18 (100.0%):  51%|█████▏    | 18/35 [00:14<00:16,  1.05it/s][A\n",
      "Average Metric: 30.00 / 33 (90.9%):  91%|█████████▏| 32/35 [00:16<00:01,  2.21it/s]\u001b[A\n",
      "Average Metric: 30.00 / 33 (90.9%):  94%|█████████▍| 33/35 [00:16<00:01,  1.92it/s]\u001b[A\n",
      "Average Metric: 31.00 / 34 (91.2%):  94%|█████████▍| 33/35 [00:16<00:01,  1.92it/s]\u001b[A\n",
      "Average Metric: 32.00 / 35 (91.4%):  97%|█████████▋| 34/35 [00:18<00:00,  1.92it/s]\u001b[A\n",
      "Average Metric: 32.00 / 35 (91.4%): 100%|██████████| 35/35 [00:18<00:00,  1.86it/s]\u001b[A"
     ]
    },
    {
     "name": "stderr",
     "output_type": "stream",
     "text": [
      "2025/10/27 15:00:45 INFO dspy.evaluate.evaluate: Average Metric: 32 / 35 (91.4%)\n",
      "2025/10/27 15:00:45 INFO dspy.teleprompt.mipro_optimizer_v2: Score: 91.43 on minibatch of size 35 with parameters ['Predictor 0: Instruction 0', 'Predictor 0: Few-Shot Set 4'].\n",
      "2025/10/27 15:00:45 INFO dspy.teleprompt.mipro_optimizer_v2: Minibatch scores so far: [94.29, 88.57, 91.43]\n",
      "2025/10/27 15:00:45 INFO dspy.teleprompt.mipro_optimizer_v2: Full eval scores so far: [91.0]\n",
      "2025/10/27 15:00:45 INFO dspy.teleprompt.mipro_optimizer_v2: Best full score so far: 91.0\n",
      "2025/10/27 15:00:45 INFO dspy.teleprompt.mipro_optimizer_v2: =========================================\n",
      "\n",
      "\n"
     ]
    },
    {
     "name": "stdout",
     "output_type": "stream",
     "text": [
      "\n",
      "Bayesian Issues: 'X_RapidAPI_Key'\n",
      "Bayesian Issues: 'X_RapidAPI_Key'\n",
      "Bayesian Issues: 'X_RapidAPI_Key'\n"
     ]
    },
    {
     "name": "stderr",
     "output_type": "stream",
     "text": [
      "2025/10/27 15:00:46 INFO dspy.teleprompt.mipro_optimizer_v2: == Trial 6 / 13 - Minibatch ==\n"
     ]
    },
    {
     "name": "stdout",
     "output_type": "stream",
     "text": [
      "Bayesian Issues: 'X_RapidAPI_Key'\n",
      "Average Metric: 31.00 / 35 (88.6%): 100%|██████████| 35/35 [00:00<00:00, 175.80it/s]"
     ]
    },
    {
     "name": "stderr",
     "output_type": "stream",
     "text": [
      "2025/10/27 15:00:46 INFO dspy.evaluate.evaluate: Average Metric: 31 / 35 (88.6%)\n"
     ]
    },
    {
     "name": "stdout",
     "output_type": "stream",
     "text": [
      "\n"
     ]
    },
    {
     "name": "stderr",
     "output_type": "stream",
     "text": [
      "2025/10/27 15:00:46 INFO dspy.teleprompt.mipro_optimizer_v2: Score: 88.57 on minibatch of size 35 with parameters ['Predictor 0: Instruction 2', 'Predictor 0: Few-Shot Set 0'].\n",
      "2025/10/27 15:00:46 INFO dspy.teleprompt.mipro_optimizer_v2: Minibatch scores so far: [94.29, 88.57, 91.43, 88.57]\n",
      "2025/10/27 15:00:46 INFO dspy.teleprompt.mipro_optimizer_v2: Full eval scores so far: [91.0]\n",
      "2025/10/27 15:00:46 INFO dspy.teleprompt.mipro_optimizer_v2: Best full score so far: 91.0\n",
      "2025/10/27 15:00:46 INFO dspy.teleprompt.mipro_optimizer_v2: =========================================\n",
      "\n",
      "\n",
      "2025/10/27 15:00:46 INFO dspy.teleprompt.mipro_optimizer_v2: ===== Trial 7 / 13 - Full Evaluation =====\n",
      "2025/10/27 15:00:46 INFO dspy.teleprompt.mipro_optimizer_v2: Doing full eval on next top averaging program (Avg Score: 94.29) from minibatch trials...\n"
     ]
    },
    {
     "name": "stdout",
     "output_type": "stream",
     "text": [
      "Average Metric: 90.00 / 100 (90.0%): 100%|██████████| 100/100 [00:00<00:00, 164.40it/s]"
     ]
    },
    {
     "name": "stderr",
     "output_type": "stream",
     "text": [
      "2025/10/27 15:00:47 INFO dspy.evaluate.evaluate: Average Metric: 90 / 100 (90.0%)\n",
      "2025/10/27 15:00:47 INFO dspy.teleprompt.mipro_optimizer_v2: Full eval scores so far: [91.0, 90.0]\n",
      "2025/10/27 15:00:47 INFO dspy.teleprompt.mipro_optimizer_v2: Best full score so far: 91.0\n",
      "2025/10/27 15:00:47 INFO dspy.teleprompt.mipro_optimizer_v2: =======================\n",
      "2025/10/27 15:00:47 INFO dspy.teleprompt.mipro_optimizer_v2: \n",
      "\n"
     ]
    },
    {
     "name": "stdout",
     "output_type": "stream",
     "text": [
      "\n"
     ]
    },
    {
     "name": "stderr",
     "output_type": "stream",
     "text": [
      "2025/10/27 15:00:47 INFO dspy.teleprompt.mipro_optimizer_v2: == Trial 8 / 13 - Minibatch ==\n"
     ]
    },
    {
     "name": "stdout",
     "output_type": "stream",
     "text": [
      "Average Metric: 32.00 / 35 (91.4%): 100%|██████████| 35/35 [00:38<00:00,  1.09s/it] "
     ]
    },
    {
     "name": "stderr",
     "output_type": "stream",
     "text": [
      "2025/10/27 15:01:05 INFO dspy.evaluate.evaluate: Average Metric: 32 / 35 (91.4%)\n",
      "2025/10/27 15:01:05 INFO dspy.teleprompt.mipro_optimizer_v2: Score: 91.43 on minibatch of size 35 with parameters ['Predictor 0: Instruction 1', 'Predictor 0: Few-Shot Set 5'].\n",
      "2025/10/27 15:01:05 INFO dspy.teleprompt.mipro_optimizer_v2: Minibatch scores so far: [94.29, 88.57, 91.43, 88.57, 91.43]\n",
      "2025/10/27 15:01:05 INFO dspy.teleprompt.mipro_optimizer_v2: Full eval scores so far: [91.0, 90.0]\n",
      "2025/10/27 15:01:05 INFO dspy.teleprompt.mipro_optimizer_v2: Best full score so far: 91.0\n",
      "2025/10/27 15:01:05 INFO dspy.teleprompt.mipro_optimizer_v2: =========================================\n",
      "\n",
      "\n",
      "2025/10/27 15:01:05 INFO dspy.teleprompt.mipro_optimizer_v2: == Trial 9 / 13 - Minibatch ==\n"
     ]
    },
    {
     "name": "stdout",
     "output_type": "stream",
     "text": [
      "\n",
      "Average Metric: 32.00 / 35 (91.4%): 100%|██████████| 35/35 [00:40<00:00,  1.16s/it]"
     ]
    },
    {
     "name": "stderr",
     "output_type": "stream",
     "text": [
      "2025/10/27 15:01:27 INFO dspy.evaluate.evaluate: Average Metric: 32 / 35 (91.4%)\n",
      "2025/10/27 15:01:27 INFO dspy.teleprompt.mipro_optimizer_v2: Score: 91.43 on minibatch of size 35 with parameters ['Predictor 0: Instruction 1', 'Predictor 0: Few-Shot Set 2'].\n",
      "2025/10/27 15:01:27 INFO dspy.teleprompt.mipro_optimizer_v2: Minibatch scores so far: [94.29, 88.57, 91.43, 88.57, 91.43, 91.43]\n",
      "2025/10/27 15:01:27 INFO dspy.teleprompt.mipro_optimizer_v2: Full eval scores so far: [91.0, 90.0]\n",
      "2025/10/27 15:01:27 INFO dspy.teleprompt.mipro_optimizer_v2: Best full score so far: 91.0\n",
      "2025/10/27 15:01:27 INFO dspy.teleprompt.mipro_optimizer_v2: =========================================\n",
      "\n",
      "\n",
      "2025/10/27 15:01:27 INFO dspy.teleprompt.mipro_optimizer_v2: == Trial 10 / 13 - Minibatch ==\n"
     ]
    },
    {
     "name": "stdout",
     "output_type": "stream",
     "text": [
      "\n",
      "Average Metric: 31.00 / 35 (88.6%): 100%|██████████| 35/35 [00:42<00:00,  1.21s/it]"
     ]
    },
    {
     "name": "stderr",
     "output_type": "stream",
     "text": [
      "2025/10/27 15:01:47 INFO dspy.evaluate.evaluate: Average Metric: 31 / 35 (88.6%)\n",
      "2025/10/27 15:01:47 INFO dspy.teleprompt.mipro_optimizer_v2: Score: 88.57 on minibatch of size 35 with parameters ['Predictor 0: Instruction 1', 'Predictor 0: Few-Shot Set 2'].\n",
      "2025/10/27 15:01:47 INFO dspy.teleprompt.mipro_optimizer_v2: Minibatch scores so far: [94.29, 88.57, 91.43, 88.57, 91.43, 91.43, 88.57]\n",
      "2025/10/27 15:01:47 INFO dspy.teleprompt.mipro_optimizer_v2: Full eval scores so far: [91.0, 90.0]\n",
      "2025/10/27 15:01:47 INFO dspy.teleprompt.mipro_optimizer_v2: Best full score so far: 91.0\n",
      "2025/10/27 15:01:47 INFO dspy.teleprompt.mipro_optimizer_v2: =========================================\n",
      "\n",
      "\n"
     ]
    },
    {
     "name": "stdout",
     "output_type": "stream",
     "text": [
      "\n",
      "Bayesian Issues: 'X_RapidAPI_Key'\n",
      "Bayesian Issues: 'X_RapidAPI_Key'\n",
      "Average Metric: 24.00 / 26 (92.3%):  74%|███████▍  | 26/35 [00:20<00:06,  1.33it/s]Bayesian Issues: 'X_RapidAPI_Key'\n",
      "Average Metric: 28.00 / 32 (87.5%):  89%|████████▊ | 31/35 [00:20<00:02,  1.43it/s]"
     ]
    },
    {
     "name": "stderr",
     "output_type": "stream",
     "text": [
      "2025/10/27 15:01:48 INFO dspy.teleprompt.mipro_optimizer_v2: == Trial 11 / 13 - Minibatch ==\n"
     ]
    },
    {
     "name": "stdout",
     "output_type": "stream",
     "text": [
      "Bayesian Issues: 'X_RapidAPI_Key'\n",
      "Average Metric: 33.00 / 35 (94.3%): 100%|██████████| 35/35 [00:00<00:00, 151.41it/s]"
     ]
    },
    {
     "name": "stderr",
     "output_type": "stream",
     "text": [
      "2025/10/27 15:01:49 INFO dspy.evaluate.evaluate: Average Metric: 33 / 35 (94.3%)\n"
     ]
    },
    {
     "name": "stdout",
     "output_type": "stream",
     "text": [
      "\n"
     ]
    },
    {
     "name": "stderr",
     "output_type": "stream",
     "text": [
      "2025/10/27 15:01:49 INFO dspy.teleprompt.mipro_optimizer_v2: Score: 94.29 on minibatch of size 35 with parameters ['Predictor 0: Instruction 2', 'Predictor 0: Few-Shot Set 3'].\n",
      "2025/10/27 15:01:49 INFO dspy.teleprompt.mipro_optimizer_v2: Minibatch scores so far: [94.29, 88.57, 91.43, 88.57, 91.43, 91.43, 88.57, 94.29]\n",
      "2025/10/27 15:01:49 INFO dspy.teleprompt.mipro_optimizer_v2: Full eval scores so far: [91.0, 90.0]\n",
      "2025/10/27 15:01:49 INFO dspy.teleprompt.mipro_optimizer_v2: Best full score so far: 91.0\n",
      "2025/10/27 15:01:49 INFO dspy.teleprompt.mipro_optimizer_v2: ==========================================\n",
      "\n",
      "\n",
      "2025/10/27 15:01:49 INFO dspy.teleprompt.mipro_optimizer_v2: == Trial 12 / 13 - Minibatch ==\n"
     ]
    },
    {
     "name": "stdout",
     "output_type": "stream",
     "text": [
      "Average Metric: 30.00 / 35 (85.7%): 100%|██████████| 35/35 [00:00<00:00, 136.25it/s]"
     ]
    },
    {
     "name": "stderr",
     "output_type": "stream",
     "text": [
      "2025/10/27 15:01:49 INFO dspy.evaluate.evaluate: Average Metric: 30 / 35 (85.7%)\n",
      "2025/10/27 15:01:49 INFO dspy.teleprompt.mipro_optimizer_v2: Score: 85.71 on minibatch of size 35 with parameters ['Predictor 0: Instruction 2', 'Predictor 0: Few-Shot Set 3'].\n",
      "2025/10/27 15:01:49 INFO dspy.teleprompt.mipro_optimizer_v2: Minibatch scores so far: [94.29, 88.57, 91.43, 88.57, 91.43, 91.43, 88.57, 94.29, 85.71]\n",
      "2025/10/27 15:01:49 INFO dspy.teleprompt.mipro_optimizer_v2: Full eval scores so far: [91.0, 90.0]\n",
      "2025/10/27 15:01:49 INFO dspy.teleprompt.mipro_optimizer_v2: Best full score so far: 91.0\n",
      "2025/10/27 15:01:49 INFO dspy.teleprompt.mipro_optimizer_v2: ==========================================\n",
      "\n",
      "\n",
      "2025/10/27 15:01:49 INFO dspy.teleprompt.mipro_optimizer_v2: ===== Trial 13 / 13 - Full Evaluation =====\n",
      "2025/10/27 15:01:49 INFO dspy.teleprompt.mipro_optimizer_v2: Doing full eval on next top averaging program (Avg Score: 91.43) from minibatch trials...\n"
     ]
    },
    {
     "name": "stdout",
     "output_type": "stream",
     "text": [
      "\n",
      "Average Metric: 31.00 / 35 (88.6%): 100%|██████████| 35/35 [00:26<00:00,  1.32it/s]"
     ]
    },
    {
     "name": "stderr",
     "output_type": "stream",
     "text": [
      "2025/10/27 15:01:54 INFO dspy.evaluate.evaluate: Average Metric: 31 / 35 (88.6%)\n",
      "2025/10/27 15:01:54 INFO dspy.teleprompt.mipro_optimizer_v2: Score: 88.57 on minibatch of size 35 with parameters ['Predictor 0: Instruction 0', 'Predictor 0: Few-Shot Set 5'].\n",
      "2025/10/27 15:01:54 INFO dspy.teleprompt.mipro_optimizer_v2: Minibatch scores so far: [94.29, 88.57, 91.43, 88.57, 91.43, 91.43, 88.57, 94.29, 85.71, 88.57]\n",
      "2025/10/27 15:01:54 INFO dspy.teleprompt.mipro_optimizer_v2: Full eval scores so far: [91.0, 90.0]\n",
      "2025/10/27 15:01:54 INFO dspy.teleprompt.mipro_optimizer_v2: Best full score so far: 91.0\n",
      "2025/10/27 15:01:54 INFO dspy.teleprompt.mipro_optimizer_v2: ==========================================\n",
      "\n",
      "\n"
     ]
    },
    {
     "name": "stdout",
     "output_type": "stream",
     "text": [
      "\n",
      "Average Metric: 91.00 / 100 (91.0%): 100%|██████████| 100/100 [01:04<00:00,  1.55it/s]"
     ]
    },
    {
     "name": "stderr",
     "output_type": "stream",
     "text": [
      "2025/10/27 15:02:54 INFO dspy.evaluate.evaluate: Average Metric: 91 / 100 (91.0%)\n",
      "2025/10/27 15:02:54 INFO dspy.teleprompt.mipro_optimizer_v2: Full eval scores so far: [91.0, 90.0, 91.0]\n",
      "2025/10/27 15:02:54 INFO dspy.teleprompt.mipro_optimizer_v2: Best full score so far: 91.0\n",
      "2025/10/27 15:02:54 INFO dspy.teleprompt.mipro_optimizer_v2: =======================\n",
      "2025/10/27 15:02:54 INFO dspy.teleprompt.mipro_optimizer_v2: \n",
      "\n",
      "2025/10/27 15:02:54 INFO dspy.teleprompt.mipro_optimizer_v2: Returning best identified program with score 91.0!\n"
     ]
    },
    {
     "name": "stdout",
     "output_type": "stream",
     "text": [
      "\n"
     ]
    }
   ],
   "source": [
    "gsm8k = GSM8K()\n",
    "\n",
    "optimized_program = teleprompter.compile(\n",
    "    dspy.ChainOfThought(\"question -> answer\"),\n",
    "    trainset=gsm8k.train,\n",
    "    n_jobs=2,\n",
    "    **sampler_config\n",
    ")"
   ]
  },
  {
   "cell_type": "code",
   "execution_count": null,
   "id": "14f4cefb-0bf7-4c33-a6cf-1cac7dc64f65",
   "metadata": {},
   "outputs": [],
   "source": []
  }
 ],
 "metadata": {
  "kernelspec": {
   "display_name": "Python 3 (ipykernel)",
   "language": "python",
   "name": "python3"
  },
  "language_info": {
   "codemirror_mode": {
    "name": "ipython",
    "version": 3
   },
   "file_extension": ".py",
   "mimetype": "text/x-python",
   "name": "python",
   "nbconvert_exporter": "python",
   "pygments_lexer": "ipython3",
   "version": "3.11.11"
  }
 },
 "nbformat": 4,
 "nbformat_minor": 5
}
